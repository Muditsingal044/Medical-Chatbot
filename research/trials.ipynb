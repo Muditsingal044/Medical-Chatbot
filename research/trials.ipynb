{
 "cells": [
  {
   "cell_type": "code",
   "execution_count": 1,
   "id": "6dc8314c",
   "metadata": {},
   "outputs": [
    {
     "data": {
      "text/plain": [
       "'d:\\\\sampark_company\\\\Medical Chatbot\\\\Medical-Chatbot\\\\research'"
      ]
     },
     "execution_count": 1,
     "metadata": {},
     "output_type": "execute_result"
    }
   ],
   "source": [
    "%pwd"
   ]
  },
  {
   "cell_type": "code",
   "execution_count": 2,
   "id": "a7e6eb23",
   "metadata": {},
   "outputs": [],
   "source": [
    "import os \n",
    "os.chdir(\"../\")"
   ]
  },
  {
   "cell_type": "code",
   "execution_count": 3,
   "id": "f496406e",
   "metadata": {},
   "outputs": [
    {
     "data": {
      "text/plain": [
       "'d:\\\\sampark_company\\\\Medical Chatbot\\\\Medical-Chatbot'"
      ]
     },
     "execution_count": 3,
     "metadata": {},
     "output_type": "execute_result"
    }
   ],
   "source": [
    "%pwd"
   ]
  },
  {
   "cell_type": "code",
   "execution_count": 4,
   "id": "3a3a10a3",
   "metadata": {},
   "outputs": [],
   "source": [
    "from langchain.document_loaders import PyPDFLoader, DirectoryLoader   \n",
    "from langchain.text_splitter import RecursiveCharacterTextSplitter"
   ]
  },
  {
   "cell_type": "code",
   "execution_count": 5,
   "id": "8dda01ef",
   "metadata": {},
   "outputs": [],
   "source": [
    "# Extract text from PDF files\n",
    "def load_pdf_files(data):\n",
    "    loader = DirectoryLoader(\n",
    "        data,\n",
    "        glob=\"*.pdf\",\n",
    "        loader_cls=PyPDFLoader\n",
    "    )\n",
    "\n",
    "    documents = loader.load()\n",
    "    return documents"
   ]
  },
  {
   "cell_type": "code",
   "execution_count": 9,
   "id": "8d45daf2",
   "metadata": {},
   "outputs": [],
   "source": [
    "extracted_data = load_pdf_files(\"D:\\sampark_company\\Medical Chatbot\\Medical-Chatbot\\data\")"
   ]
  },
  {
   "cell_type": "code",
   "execution_count": 12,
   "id": "6f1ff9a1",
   "metadata": {},
   "outputs": [
    {
     "data": {
      "text/plain": [
       "[Document(metadata={'producer': 'ReportLab PDF Library - www.reportlab.com', 'creator': '(unspecified)', 'creationdate': '2025-08-11T08:50:37+00:00', 'author': '(anonymous)', 'keywords': '', 'moddate': '2025-08-11T08:50:37+00:00', 'subject': '(unspecified)', 'title': '(anonymous)', 'trapped': '/False', 'source': 'D:\\\\sampark_company\\\\Medical Chatbot\\\\Medical-Chatbot\\\\data\\\\college_health_guide_extended.pdf', 'total_pages': 3, 'page': 0, 'page_label': '1'}, page_content='College Student Health Guide - Extended Edition\\nThis guide provides quick doctor-style questions, medicine suggestions, and care steps for\\ncommon health problems faced by college students. Always consult a doctor for severe or\\npersistent symptoms.\\nFever\\nDoctor Questions: Is it high (above 102°F) or low (below 101°F)? Any chills, sore throat, or body\\nache?\\nMedicine Suggestion: Low: Take paracetamol 500 mg after food every 6–8 hours if needed. High:\\nSame + sponge forehead with lukewarm water.\\nCare Steps: Drink warm water, eat light meals, rest well, monitor temperature twice a day. See a\\ndoctor if it lasts more than 2 days or worsens.\\nCold & Cough\\nDoctor Questions: Do you have runny nose, blocked nose, or sore throat? Any fever?\\nMedicine Suggestion: Take antihistamine (cetirizine 10 mg) at night for runny nose. For cough,\\nuse cough syrup as per label instructions.\\nCare Steps: Drink warm fluids, gargle with salt water, inhale steam twice a day. Avoid cold drinks.\\nHeadache\\nDoctor Questions: Is it one-sided or both sides? Any nausea or vision problems?\\nMedicine Suggestion: Take paracetamol 500 mg after food if mild. Avoid strong painkillers without\\nprescription.\\nCare Steps: Rest in a dark, quiet room, stay hydrated, avoid phone/laptop strain. See a doctor if\\nsudden or severe.\\nStomach Ache\\nDoctor Questions: Is pain mild or severe? Any vomiting or diarrhea?\\nMedicine Suggestion: Take antacid if burning sensation, or ORS if diarrhea. Avoid spicy food.\\nCare Steps: Eat bland food, drink clean water, rest. See a doctor if pain is severe or persistent.\\nStress / Overthinking\\nDoctor Questions: How long have you felt this way? Any trouble sleeping or concentrating?\\nMedicine Suggestion: No medicine for normal stress; use relaxation techniques.\\nCare Steps: Do breathing exercises, take breaks, talk to friends, avoid excess caffeine. Seek\\ncounseling if severe.\\nSore Throat\\nDoctor Questions: Do you have difficulty swallowing, fever, or swollen glands?\\nMedicine Suggestion: Take warm salt water gargles twice a day. Paracetamol 500 mg for pain if\\nneeded.'),\n",
       " Document(metadata={'producer': 'ReportLab PDF Library - www.reportlab.com', 'creator': '(unspecified)', 'creationdate': '2025-08-11T08:50:37+00:00', 'author': '(anonymous)', 'keywords': '', 'moddate': '2025-08-11T08:50:37+00:00', 'subject': '(unspecified)', 'title': '(anonymous)', 'trapped': '/False', 'source': 'D:\\\\sampark_company\\\\Medical Chatbot\\\\Medical-Chatbot\\\\data\\\\college_health_guide_extended.pdf', 'total_pages': 3, 'page': 1, 'page_label': '2'}, page_content='Care Steps: Drink warm fluids, avoid spicy and oily food, rest voice. See a doctor if white patches\\nappear on throat.\\nDiarrhea\\nDoctor Questions: How many times have you passed loose stools today? Any fever or blood in\\nstool?\\nMedicine Suggestion: Drink ORS after every loose stool. Avoid anti-diarrheal unless prescribed.\\nCare Steps: Eat bland food (banana, rice, apple, toast), stay hydrated. See doctor if lasts more\\nthan 2 days or with high fever.\\nConstipation\\nDoctor Questions: How many days without passing stool? Any abdominal pain or bloating?\\nMedicine Suggestion: Increase fiber intake and drink warm water. Mild laxatives if prescribed.\\nCare Steps: Eat fruits, vegetables, whole grains, and stay active.\\nBack Pain\\nDoctor Questions: Is the pain after sitting long or lifting heavy? Any numbness in legs?\\nMedicine Suggestion: Take paracetamol 500 mg for pain. Apply warm compress on affected area.\\nCare Steps: Maintain good posture, stretch daily, avoid heavy lifting.\\nAcidity\\nDoctor Questions: Do you have burning sensation in chest or stomach after eating?\\nMedicine Suggestion: Take antacid tablets/syrup after meals.\\nCare Steps: Avoid spicy food, coffee, and late-night meals. Eat small frequent meals.\\nAllergy (Skin)\\nDoctor Questions: Do you have itching, redness, or rash? Any swelling or breathing difficulty?\\nMedicine Suggestion: Take cetirizine 10 mg at night for itching.\\nCare Steps: Avoid known allergens, keep skin clean, use mild soap. Seek emergency help if\\nbreathing trouble occurs.\\nEye Strain\\nDoctor Questions: Do you have redness, burning, or blurred vision?\\nMedicine Suggestion: Rest eyes for 5–10 mins every hour. Use lubricating eye drops if needed.\\nCare Steps: Follow 20-20-20 rule (every 20 mins, look 20 ft away for 20 seconds). Reduce screen\\nbrightness.\\nSprain / Strain\\nDoctor Questions: Is there swelling, bruising, or difficulty moving?\\nMedicine Suggestion: Rest, ice, compression, elevation (RICE method).\\nCare Steps: Avoid putting weight on injured area. See doctor if severe pain or deformity.'),\n",
       " Document(metadata={'producer': 'ReportLab PDF Library - www.reportlab.com', 'creator': '(unspecified)', 'creationdate': '2025-08-11T08:50:37+00:00', 'author': '(anonymous)', 'keywords': '', 'moddate': '2025-08-11T08:50:37+00:00', 'subject': '(unspecified)', 'title': '(anonymous)', 'trapped': '/False', 'source': 'D:\\\\sampark_company\\\\Medical Chatbot\\\\Medical-Chatbot\\\\data\\\\college_health_guide_extended.pdf', 'total_pages': 3, 'page': 2, 'page_label': '3'}, page_content='Dehydration\\nDoctor Questions: Do you feel dizzy, tired, or have dark yellow urine?\\nMedicine Suggestion: Drink water or ORS immediately.\\nCare Steps: Avoid excessive caffeine/alcohol, drink 2–3 liters water daily, especially in heat.')]"
      ]
     },
     "execution_count": 12,
     "metadata": {},
     "output_type": "execute_result"
    }
   ],
   "source": [
    "extracted_data"
   ]
  },
  {
   "cell_type": "code",
   "execution_count": 13,
   "id": "a016add1",
   "metadata": {},
   "outputs": [
    {
     "data": {
      "text/plain": [
       "3"
      ]
     },
     "execution_count": 13,
     "metadata": {},
     "output_type": "execute_result"
    }
   ],
   "source": [
    "len(extracted_data)"
   ]
  },
  {
   "cell_type": "code",
   "execution_count": 14,
   "id": "b0151c51",
   "metadata": {},
   "outputs": [],
   "source": [
    "from typing import List\n",
    "from langchain.schema import Document\n",
    "\n",
    "def filter_to_minimal_docs(docs: List[Document]) -> List[Document]:\n",
    "    \"\"\"\n",
    "    Given a list of Document objects, return a new list of Document objects\n",
    "    containing only 'source' in metadata and the original page_content.\n",
    "    \"\"\"\n",
    "    minimal_docs: List[Document] = []\n",
    "    for doc in docs:\n",
    "        src = doc.metadata.get(\"source\")\n",
    "        minimal_docs.append(\n",
    "            Document(\n",
    "                \n",
    "                metadata={\"source\": src},\n",
    "                page_content=doc.page_content,\n",
    "            )\n",
    "        )\n",
    "    return minimal_docs"
   ]
  },
  {
   "cell_type": "code",
   "execution_count": 15,
   "id": "51f1c252",
   "metadata": {},
   "outputs": [],
   "source": [
    "minimal_docs = filter_to_minimal_docs(extracted_data)"
   ]
  },
  {
   "cell_type": "code",
   "execution_count": 16,
   "id": "4e5e1ef1",
   "metadata": {},
   "outputs": [
    {
     "data": {
      "text/plain": [
       "[Document(metadata={'source': 'D:\\\\sampark_company\\\\Medical Chatbot\\\\Medical-Chatbot\\\\data\\\\college_health_guide_extended.pdf'}, page_content='College Student Health Guide - Extended Edition\\nThis guide provides quick doctor-style questions, medicine suggestions, and care steps for\\ncommon health problems faced by college students. Always consult a doctor for severe or\\npersistent symptoms.\\nFever\\nDoctor Questions: Is it high (above 102°F) or low (below 101°F)? Any chills, sore throat, or body\\nache?\\nMedicine Suggestion: Low: Take paracetamol 500 mg after food every 6–8 hours if needed. High:\\nSame + sponge forehead with lukewarm water.\\nCare Steps: Drink warm water, eat light meals, rest well, monitor temperature twice a day. See a\\ndoctor if it lasts more than 2 days or worsens.\\nCold & Cough\\nDoctor Questions: Do you have runny nose, blocked nose, or sore throat? Any fever?\\nMedicine Suggestion: Take antihistamine (cetirizine 10 mg) at night for runny nose. For cough,\\nuse cough syrup as per label instructions.\\nCare Steps: Drink warm fluids, gargle with salt water, inhale steam twice a day. Avoid cold drinks.\\nHeadache\\nDoctor Questions: Is it one-sided or both sides? Any nausea or vision problems?\\nMedicine Suggestion: Take paracetamol 500 mg after food if mild. Avoid strong painkillers without\\nprescription.\\nCare Steps: Rest in a dark, quiet room, stay hydrated, avoid phone/laptop strain. See a doctor if\\nsudden or severe.\\nStomach Ache\\nDoctor Questions: Is pain mild or severe? Any vomiting or diarrhea?\\nMedicine Suggestion: Take antacid if burning sensation, or ORS if diarrhea. Avoid spicy food.\\nCare Steps: Eat bland food, drink clean water, rest. See a doctor if pain is severe or persistent.\\nStress / Overthinking\\nDoctor Questions: How long have you felt this way? Any trouble sleeping or concentrating?\\nMedicine Suggestion: No medicine for normal stress; use relaxation techniques.\\nCare Steps: Do breathing exercises, take breaks, talk to friends, avoid excess caffeine. Seek\\ncounseling if severe.\\nSore Throat\\nDoctor Questions: Do you have difficulty swallowing, fever, or swollen glands?\\nMedicine Suggestion: Take warm salt water gargles twice a day. Paracetamol 500 mg for pain if\\nneeded.'),\n",
       " Document(metadata={'source': 'D:\\\\sampark_company\\\\Medical Chatbot\\\\Medical-Chatbot\\\\data\\\\college_health_guide_extended.pdf'}, page_content='Care Steps: Drink warm fluids, avoid spicy and oily food, rest voice. See a doctor if white patches\\nappear on throat.\\nDiarrhea\\nDoctor Questions: How many times have you passed loose stools today? Any fever or blood in\\nstool?\\nMedicine Suggestion: Drink ORS after every loose stool. Avoid anti-diarrheal unless prescribed.\\nCare Steps: Eat bland food (banana, rice, apple, toast), stay hydrated. See doctor if lasts more\\nthan 2 days or with high fever.\\nConstipation\\nDoctor Questions: How many days without passing stool? Any abdominal pain or bloating?\\nMedicine Suggestion: Increase fiber intake and drink warm water. Mild laxatives if prescribed.\\nCare Steps: Eat fruits, vegetables, whole grains, and stay active.\\nBack Pain\\nDoctor Questions: Is the pain after sitting long or lifting heavy? Any numbness in legs?\\nMedicine Suggestion: Take paracetamol 500 mg for pain. Apply warm compress on affected area.\\nCare Steps: Maintain good posture, stretch daily, avoid heavy lifting.\\nAcidity\\nDoctor Questions: Do you have burning sensation in chest or stomach after eating?\\nMedicine Suggestion: Take antacid tablets/syrup after meals.\\nCare Steps: Avoid spicy food, coffee, and late-night meals. Eat small frequent meals.\\nAllergy (Skin)\\nDoctor Questions: Do you have itching, redness, or rash? Any swelling or breathing difficulty?\\nMedicine Suggestion: Take cetirizine 10 mg at night for itching.\\nCare Steps: Avoid known allergens, keep skin clean, use mild soap. Seek emergency help if\\nbreathing trouble occurs.\\nEye Strain\\nDoctor Questions: Do you have redness, burning, or blurred vision?\\nMedicine Suggestion: Rest eyes for 5–10 mins every hour. Use lubricating eye drops if needed.\\nCare Steps: Follow 20-20-20 rule (every 20 mins, look 20 ft away for 20 seconds). Reduce screen\\nbrightness.\\nSprain / Strain\\nDoctor Questions: Is there swelling, bruising, or difficulty moving?\\nMedicine Suggestion: Rest, ice, compression, elevation (RICE method).\\nCare Steps: Avoid putting weight on injured area. See doctor if severe pain or deformity.'),\n",
       " Document(metadata={'source': 'D:\\\\sampark_company\\\\Medical Chatbot\\\\Medical-Chatbot\\\\data\\\\college_health_guide_extended.pdf'}, page_content='Dehydration\\nDoctor Questions: Do you feel dizzy, tired, or have dark yellow urine?\\nMedicine Suggestion: Drink water or ORS immediately.\\nCare Steps: Avoid excessive caffeine/alcohol, drink 2–3 liters water daily, especially in heat.')]"
      ]
     },
     "execution_count": 16,
     "metadata": {},
     "output_type": "execute_result"
    }
   ],
   "source": [
    "minimal_docs"
   ]
  },
  {
   "cell_type": "code",
   "execution_count": 17,
   "id": "f0217c8e",
   "metadata": {},
   "outputs": [],
   "source": [
    "# Split the documents into smaller chunks\n",
    "def text_split(minimal_docs):\n",
    "    text_splitter = RecursiveCharacterTextSplitter(\n",
    "        chunk_size=500,\n",
    "        chunk_overlap=10,\n",
    "    )\n",
    "    texts_chunk = text_splitter.split_documents(minimal_docs)\n",
    "    return texts_chunk"
   ]
  },
  {
   "cell_type": "code",
   "execution_count": 18,
   "id": "7de1e558",
   "metadata": {},
   "outputs": [
    {
     "name": "stdout",
     "output_type": "stream",
     "text": [
      "Number of chunks: 11\n"
     ]
    }
   ],
   "source": [
    "texts_chunk = text_split(minimal_docs)\n",
    "print(f\"Number of chunks: {len(texts_chunk)}\")"
   ]
  },
  {
   "cell_type": "code",
   "execution_count": 19,
   "id": "9a514521",
   "metadata": {},
   "outputs": [
    {
     "data": {
      "text/plain": [
       "[Document(metadata={'source': 'D:\\\\sampark_company\\\\Medical Chatbot\\\\Medical-Chatbot\\\\data\\\\college_health_guide_extended.pdf'}, page_content='College Student Health Guide - Extended Edition\\nThis guide provides quick doctor-style questions, medicine suggestions, and care steps for\\ncommon health problems faced by college students. Always consult a doctor for severe or\\npersistent symptoms.\\nFever\\nDoctor Questions: Is it high (above 102°F) or low (below 101°F)? Any chills, sore throat, or body\\nache?\\nMedicine Suggestion: Low: Take paracetamol 500 mg after food every 6–8 hours if needed. High:\\nSame + sponge forehead with lukewarm water.'),\n",
       " Document(metadata={'source': 'D:\\\\sampark_company\\\\Medical Chatbot\\\\Medical-Chatbot\\\\data\\\\college_health_guide_extended.pdf'}, page_content='Care Steps: Drink warm water, eat light meals, rest well, monitor temperature twice a day. See a\\ndoctor if it lasts more than 2 days or worsens.\\nCold & Cough\\nDoctor Questions: Do you have runny nose, blocked nose, or sore throat? Any fever?\\nMedicine Suggestion: Take antihistamine (cetirizine 10 mg) at night for runny nose. For cough,\\nuse cough syrup as per label instructions.\\nCare Steps: Drink warm fluids, gargle with salt water, inhale steam twice a day. Avoid cold drinks.\\nHeadache'),\n",
       " Document(metadata={'source': 'D:\\\\sampark_company\\\\Medical Chatbot\\\\Medical-Chatbot\\\\data\\\\college_health_guide_extended.pdf'}, page_content='Headache\\nDoctor Questions: Is it one-sided or both sides? Any nausea or vision problems?\\nMedicine Suggestion: Take paracetamol 500 mg after food if mild. Avoid strong painkillers without\\nprescription.\\nCare Steps: Rest in a dark, quiet room, stay hydrated, avoid phone/laptop strain. See a doctor if\\nsudden or severe.\\nStomach Ache\\nDoctor Questions: Is pain mild or severe? Any vomiting or diarrhea?\\nMedicine Suggestion: Take antacid if burning sensation, or ORS if diarrhea. Avoid spicy food.'),\n",
       " Document(metadata={'source': 'D:\\\\sampark_company\\\\Medical Chatbot\\\\Medical-Chatbot\\\\data\\\\college_health_guide_extended.pdf'}, page_content='Care Steps: Eat bland food, drink clean water, rest. See a doctor if pain is severe or persistent.\\nStress / Overthinking\\nDoctor Questions: How long have you felt this way? Any trouble sleeping or concentrating?\\nMedicine Suggestion: No medicine for normal stress; use relaxation techniques.\\nCare Steps: Do breathing exercises, take breaks, talk to friends, avoid excess caffeine. Seek\\ncounseling if severe.\\nSore Throat\\nDoctor Questions: Do you have difficulty swallowing, fever, or swollen glands?'),\n",
       " Document(metadata={'source': 'D:\\\\sampark_company\\\\Medical Chatbot\\\\Medical-Chatbot\\\\data\\\\college_health_guide_extended.pdf'}, page_content='Medicine Suggestion: Take warm salt water gargles twice a day. Paracetamol 500 mg for pain if\\nneeded.'),\n",
       " Document(metadata={'source': 'D:\\\\sampark_company\\\\Medical Chatbot\\\\Medical-Chatbot\\\\data\\\\college_health_guide_extended.pdf'}, page_content='Care Steps: Drink warm fluids, avoid spicy and oily food, rest voice. See a doctor if white patches\\nappear on throat.\\nDiarrhea\\nDoctor Questions: How many times have you passed loose stools today? Any fever or blood in\\nstool?\\nMedicine Suggestion: Drink ORS after every loose stool. Avoid anti-diarrheal unless prescribed.\\nCare Steps: Eat bland food (banana, rice, apple, toast), stay hydrated. See doctor if lasts more\\nthan 2 days or with high fever.\\nConstipation'),\n",
       " Document(metadata={'source': 'D:\\\\sampark_company\\\\Medical Chatbot\\\\Medical-Chatbot\\\\data\\\\college_health_guide_extended.pdf'}, page_content='Doctor Questions: How many days without passing stool? Any abdominal pain or bloating?\\nMedicine Suggestion: Increase fiber intake and drink warm water. Mild laxatives if prescribed.\\nCare Steps: Eat fruits, vegetables, whole grains, and stay active.\\nBack Pain\\nDoctor Questions: Is the pain after sitting long or lifting heavy? Any numbness in legs?\\nMedicine Suggestion: Take paracetamol 500 mg for pain. Apply warm compress on affected area.'),\n",
       " Document(metadata={'source': 'D:\\\\sampark_company\\\\Medical Chatbot\\\\Medical-Chatbot\\\\data\\\\college_health_guide_extended.pdf'}, page_content='Care Steps: Maintain good posture, stretch daily, avoid heavy lifting.\\nAcidity\\nDoctor Questions: Do you have burning sensation in chest or stomach after eating?\\nMedicine Suggestion: Take antacid tablets/syrup after meals.\\nCare Steps: Avoid spicy food, coffee, and late-night meals. Eat small frequent meals.\\nAllergy (Skin)\\nDoctor Questions: Do you have itching, redness, or rash? Any swelling or breathing difficulty?\\nMedicine Suggestion: Take cetirizine 10 mg at night for itching.'),\n",
       " Document(metadata={'source': 'D:\\\\sampark_company\\\\Medical Chatbot\\\\Medical-Chatbot\\\\data\\\\college_health_guide_extended.pdf'}, page_content='Care Steps: Avoid known allergens, keep skin clean, use mild soap. Seek emergency help if\\nbreathing trouble occurs.\\nEye Strain\\nDoctor Questions: Do you have redness, burning, or blurred vision?\\nMedicine Suggestion: Rest eyes for 5–10 mins every hour. Use lubricating eye drops if needed.\\nCare Steps: Follow 20-20-20 rule (every 20 mins, look 20 ft away for 20 seconds). Reduce screen\\nbrightness.\\nSprain / Strain\\nDoctor Questions: Is there swelling, bruising, or difficulty moving?'),\n",
       " Document(metadata={'source': 'D:\\\\sampark_company\\\\Medical Chatbot\\\\Medical-Chatbot\\\\data\\\\college_health_guide_extended.pdf'}, page_content='Medicine Suggestion: Rest, ice, compression, elevation (RICE method).\\nCare Steps: Avoid putting weight on injured area. See doctor if severe pain or deformity.'),\n",
       " Document(metadata={'source': 'D:\\\\sampark_company\\\\Medical Chatbot\\\\Medical-Chatbot\\\\data\\\\college_health_guide_extended.pdf'}, page_content='Dehydration\\nDoctor Questions: Do you feel dizzy, tired, or have dark yellow urine?\\nMedicine Suggestion: Drink water or ORS immediately.\\nCare Steps: Avoid excessive caffeine/alcohol, drink 2–3 liters water daily, especially in heat.')]"
      ]
     },
     "execution_count": 19,
     "metadata": {},
     "output_type": "execute_result"
    }
   ],
   "source": [
    "texts_chunk"
   ]
  },
  {
   "cell_type": "code",
   "execution_count": 20,
   "id": "95a6ae04",
   "metadata": {},
   "outputs": [
    {
     "name": "stderr",
     "output_type": "stream",
     "text": [
      "C:\\Users\\ermud\\AppData\\Local\\Temp\\ipykernel_20580\\30168171.py:8: LangChainDeprecationWarning: The class `HuggingFaceEmbeddings` was deprecated in LangChain 0.2.2 and will be removed in 1.0. An updated version of the class exists in the :class:`~langchain-huggingface package and should be used instead. To use it run `pip install -U :class:`~langchain-huggingface` and import as `from :class:`~langchain_huggingface import HuggingFaceEmbeddings``.\n",
      "  embeddings = HuggingFaceEmbeddings(\n",
      "d:\\sampark_company\\Medical Chatbot\\Medical-Chatbot\\env\\lib\\site-packages\\tqdm\\auto.py:21: TqdmWarning: IProgress not found. Please update jupyter and ipywidgets. See https://ipywidgets.readthedocs.io/en/stable/user_install.html\n",
      "  from .autonotebook import tqdm as notebook_tqdm\n"
     ]
    }
   ],
   "source": [
    "from langchain.embeddings import HuggingFaceEmbeddings\n",
    "\n",
    "def download_embeddings():\n",
    "    \"\"\"\n",
    "    Download and return the HuggingFace embeddings model.\n",
    "    \"\"\"\n",
    "    model_name = \"sentence-transformers/all-MiniLM-L6-v2\"\n",
    "    embeddings = HuggingFaceEmbeddings(\n",
    "        model_name=model_name\n",
    "    )\n",
    "    return embeddings\n",
    "\n",
    "embedding = download_embeddings()"
   ]
  },
  {
   "cell_type": "code",
   "execution_count": 21,
   "id": "d343bdbb",
   "metadata": {},
   "outputs": [
    {
     "data": {
      "text/plain": [
       "HuggingFaceEmbeddings(client=SentenceTransformer(\n",
       "  (0): Transformer({'max_seq_length': 256, 'do_lower_case': False}) with Transformer model: BertModel \n",
       "  (1): Pooling({'word_embedding_dimension': 384, 'pooling_mode_cls_token': False, 'pooling_mode_mean_tokens': True, 'pooling_mode_max_tokens': False, 'pooling_mode_mean_sqrt_len_tokens': False, 'pooling_mode_weightedmean_tokens': False, 'pooling_mode_lasttoken': False, 'include_prompt': True})\n",
       "  (2): Normalize()\n",
       "), model_name='sentence-transformers/all-MiniLM-L6-v2', cache_folder=None, model_kwargs={}, encode_kwargs={}, multi_process=False, show_progress=False)"
      ]
     },
     "execution_count": 21,
     "metadata": {},
     "output_type": "execute_result"
    }
   ],
   "source": [
    "embedding "
   ]
  },
  {
   "cell_type": "code",
   "execution_count": 22,
   "id": "5a6038f2",
   "metadata": {},
   "outputs": [
    {
     "data": {
      "text/plain": [
       "[-0.02038685232400894,\n",
       " 0.025280887261033058,\n",
       " -0.0005662097246386111,\n",
       " 0.011615528725087643,\n",
       " -0.037988338619470596,\n",
       " -0.11998123675584793,\n",
       " 0.04170950502157211,\n",
       " -0.020857125520706177,\n",
       " -0.0590067096054554,\n",
       " 0.024232560768723488,\n",
       " 0.062120221555233,\n",
       " 0.06767991185188293,\n",
       " 0.0331001877784729,\n",
       " -0.010369337163865566,\n",
       " -0.031215671449899673,\n",
       " -0.032733239233493805,\n",
       " -0.0021117492578923702,\n",
       " 0.009261923842132092,\n",
       " -0.1247645691037178,\n",
       " 0.011236838065087795,\n",
       " 0.039045386016368866,\n",
       " 0.05440254509449005,\n",
       " -0.0028254548087716103,\n",
       " 0.044556308537721634,\n",
       " -0.08542019128799438,\n",
       " -0.02287372201681137,\n",
       " 0.03914061561226845,\n",
       " 0.036046821624040604,\n",
       " -0.03212672844529152,\n",
       " -0.06425867974758148,\n",
       " 0.05812912434339523,\n",
       " 0.04669078439474106,\n",
       " 0.08061555027961731,\n",
       " -0.007734259124845266,\n",
       " -0.022083178162574768,\n",
       " 0.06713151186704636,\n",
       " -0.045041490346193314,\n",
       " -0.1021212637424469,\n",
       " 0.0012645155657082796,\n",
       " 0.04680192843079567,\n",
       " 0.02639588713645935,\n",
       " -0.0699094608426094,\n",
       " -0.04453345760703087,\n",
       " -0.006901966407895088,\n",
       " 0.019288642331957817,\n",
       " 0.020590856671333313,\n",
       " 0.0065180109813809395,\n",
       " 0.03549382835626602,\n",
       " 0.10393311828374863,\n",
       " 0.01750367134809494,\n",
       " -0.042942870408296585,\n",
       " -0.0570373497903347,\n",
       " -0.011423500254750252,\n",
       " 0.009236681275069714,\n",
       " 0.04582155868411064,\n",
       " 0.007003582548350096,\n",
       " 0.024210121482610703,\n",
       " -0.06064579263329506,\n",
       " -0.014943870715796947,\n",
       " -0.030515847727656364,\n",
       " -0.06836124509572983,\n",
       " 0.057068608701229095,\n",
       " -0.03227084502577782,\n",
       " 0.041197020560503006,\n",
       " 0.09017686545848846,\n",
       " -0.07689829170703888,\n",
       " -0.022328851744532585,\n",
       " 0.026091283187270164,\n",
       " -0.057754434645175934,\n",
       " -0.06050311401486397,\n",
       " -0.04382948577404022,\n",
       " 0.010114461183547974,\n",
       " 0.034219153225421906,\n",
       " 0.07573970407247543,\n",
       " -0.04518907517194748,\n",
       " 0.005837581120431423,\n",
       " 0.018490811809897423,\n",
       " -0.0018646048847585917,\n",
       " 0.017705990001559258,\n",
       " 0.054946430027484894,\n",
       " 0.06722182035446167,\n",
       " -0.10008066892623901,\n",
       " 0.017738891765475273,\n",
       " 0.04324398562312126,\n",
       " 0.010778233408927917,\n",
       " -0.014706564135849476,\n",
       " -0.013241020031273365,\n",
       " -0.0017822751542553306,\n",
       " -0.045426931232213974,\n",
       " -0.03418893367052078,\n",
       " -0.14636540412902832,\n",
       " -0.01115789171308279,\n",
       " -0.011241858825087547,\n",
       " 0.011740632355213165,\n",
       " -0.08864282071590424,\n",
       " -0.02839413471519947,\n",
       " 0.07532472908496857,\n",
       " -0.018445856869220734,\n",
       " -0.1703874170780182,\n",
       " 0.15587185323238373,\n",
       " 0.022921472787857056,\n",
       " 0.04666721448302269,\n",
       " 0.04001081362366676,\n",
       " 0.023755019530653954,\n",
       " 0.049802783876657486,\n",
       " 0.030321577563881874,\n",
       " 0.0003742072149179876,\n",
       " 0.0695725753903389,\n",
       " -0.02231263555586338,\n",
       " -0.027472810819745064,\n",
       " 0.006083964370191097,\n",
       " -0.0485323928296566,\n",
       " 0.04923880100250244,\n",
       " -0.007612163200974464,\n",
       " 0.06917713582515717,\n",
       " -0.07174882292747498,\n",
       " -0.020257221534848213,\n",
       " 0.014374688267707825,\n",
       " -0.030236825346946716,\n",
       " 0.004180427640676498,\n",
       " 0.053489234298467636,\n",
       " -0.05887247249484062,\n",
       " 0.023056605830788612,\n",
       " 0.013102934695780277,\n",
       " 0.010882117785513401,\n",
       " 0.0232223067432642,\n",
       " 0.0283611211925745,\n",
       " -3.843664856439317e-33,\n",
       " 0.04356623440980911,\n",
       " -0.00359448348172009,\n",
       " 0.042123060673475266,\n",
       " 0.12318183481693268,\n",
       " 0.017473379150032997,\n",
       " 0.009427361190319061,\n",
       " -0.0945146456360817,\n",
       " -0.02123844437301159,\n",
       " 0.03426399081945419,\n",
       " 0.025959091261029243,\n",
       " 0.02806112915277481,\n",
       " 0.012698430567979813,\n",
       " -0.046177998185157776,\n",
       " 0.030305612832307816,\n",
       " -0.045231033116579056,\n",
       " 0.11220844089984894,\n",
       " -0.09135956317186356,\n",
       " -0.013798500411212444,\n",
       " 0.025815192610025406,\n",
       " 0.08335629105567932,\n",
       " -0.07693811506032944,\n",
       " -0.010359467938542366,\n",
       " 0.009555516764521599,\n",
       " 0.08872868120670319,\n",
       " -0.009140655398368835,\n",
       " 0.008417333476245403,\n",
       " 0.0107921427115798,\n",
       " -0.09071635454893112,\n",
       " 0.09623942524194717,\n",
       " 0.0072397878393530846,\n",
       " -0.03825901448726654,\n",
       " -0.051117509603500366,\n",
       " 0.02044636756181717,\n",
       " 0.015775419771671295,\n",
       " -0.005840253084897995,\n",
       " 0.011155637912452221,\n",
       " -0.007191115524619818,\n",
       " -0.07329265773296356,\n",
       " -0.07283006608486176,\n",
       " -0.006110457703471184,\n",
       " -0.05931413173675537,\n",
       " 0.04546380043029785,\n",
       " 0.04360095411539078,\n",
       " -0.007337687537074089,\n",
       " -0.025582559406757355,\n",
       " -0.03440643474459648,\n",
       " 0.025592783465981483,\n",
       " 0.01813695579767227,\n",
       " 0.04025295004248619,\n",
       " 0.039974622428417206,\n",
       " -0.04333767667412758,\n",
       " 0.008319375105202198,\n",
       " -0.03883622586727142,\n",
       " 0.05585154518485069,\n",
       " -0.010561102069914341,\n",
       " 0.01699744164943695,\n",
       " 0.047425542026758194,\n",
       " -0.04800347983837128,\n",
       " -0.013104747980833054,\n",
       " 0.04660722240805626,\n",
       " -0.003912227228283882,\n",
       " 0.10242759436368942,\n",
       " -0.04255147650837898,\n",
       " -0.028219785541296005,\n",
       " -0.008180691860616207,\n",
       " -0.01885274611413479,\n",
       " 0.05203338339924812,\n",
       " 0.03386807069182396,\n",
       " 0.05951101332902908,\n",
       " 0.004061531275510788,\n",
       " -0.01956753246486187,\n",
       " 0.026742640882730484,\n",
       " 0.020931800827383995,\n",
       " 0.021920353174209595,\n",
       " 0.012750780209898949,\n",
       " 0.05398509278893471,\n",
       " 0.05206799507141113,\n",
       " -0.00310741295106709,\n",
       " 0.024872440844774246,\n",
       " -0.07944541424512863,\n",
       " 0.028617803007364273,\n",
       " -0.000774561834987253,\n",
       " -0.0033818520605564117,\n",
       " -0.05178734287619591,\n",
       " 0.09358306974172592,\n",
       " 0.018984481692314148,\n",
       " -0.009582611732184887,\n",
       " -0.08565742522478104,\n",
       " -0.017498072236776352,\n",
       " -0.00415849918499589,\n",
       " -0.06506011635065079,\n",
       " 0.059126172214746475,\n",
       " 0.035769637674093246,\n",
       " -0.005036790389567614,\n",
       " -0.0890900045633316,\n",
       " 2.5757018955485253e-33,\n",
       " 0.13979333639144897,\n",
       " 0.017513655126094818,\n",
       " -0.05452433601021767,\n",
       " -0.06710036098957062,\n",
       " -0.010243956930935383,\n",
       " -0.03230321779847145,\n",
       " -0.07818875461816788,\n",
       " 0.14000576734542847,\n",
       " -0.0784342885017395,\n",
       " 0.0474369153380394,\n",
       " 0.021780528128147125,\n",
       " 0.021539876237511635,\n",
       " 0.1262277066707611,\n",
       " 0.02580111473798752,\n",
       " 0.022561755031347275,\n",
       " -0.01523613277822733,\n",
       " 0.13175280392169952,\n",
       " 0.014995886012911797,\n",
       " 0.014494271948933601,\n",
       " -0.0018083625473082066,\n",
       " -0.013143721967935562,\n",
       " -0.049164481461048126,\n",
       " -0.0619097538292408,\n",
       " 0.021932478994131088,\n",
       " -0.02256603166460991,\n",
       " 0.024125870317220688,\n",
       " 0.04778725281357765,\n",
       " 0.0013614200288429856,\n",
       " -0.12093905359506607,\n",
       " 0.013258983381092548,\n",
       " -0.015382413752377033,\n",
       " 0.0284393560141325,\n",
       " -0.031059594824910164,\n",
       " -0.014658482745289803,\n",
       " -0.01649618148803711,\n",
       " 0.02363424375653267,\n",
       " -0.09657490998506546,\n",
       " -0.03889472037553787,\n",
       " -0.029356475919485092,\n",
       " -0.031149446964263916,\n",
       " -0.046759311109781265,\n",
       " 0.010851324535906315,\n",
       " -0.006681244354695082,\n",
       " 0.030533621087670326,\n",
       " -0.10486801713705063,\n",
       " -0.005622659809887409,\n",
       " -0.034262001514434814,\n",
       " 0.01452444214373827,\n",
       " -0.03687179088592529,\n",
       " -0.03581422194838524,\n",
       " -0.09492840617895126,\n",
       " -0.05121377483010292,\n",
       " 0.08636815845966339,\n",
       " -0.027694664895534515,\n",
       " -0.032550521194934845,\n",
       " 0.03351921960711479,\n",
       " -0.023608185350894928,\n",
       " -0.003329239320009947,\n",
       " 0.03848697245121002,\n",
       " -0.011646389029920101,\n",
       " 0.012732071802020073,\n",
       " 0.05946171656250954,\n",
       " 0.03451535478234291,\n",
       " 0.08603381365537643,\n",
       " 0.025225182995200157,\n",
       " -0.034104228019714355,\n",
       " 0.01370931789278984,\n",
       " 0.015575775876641273,\n",
       " 0.030829858034849167,\n",
       " -0.018169106915593147,\n",
       " 0.0075484770350158215,\n",
       " 0.007678004913032055,\n",
       " -0.020997406914830208,\n",
       " -0.016836494207382202,\n",
       " -0.03218558058142662,\n",
       " 0.063665971159935,\n",
       " 0.003027664963155985,\n",
       " -0.01919613406062126,\n",
       " 0.017967157065868378,\n",
       " 0.03070322796702385,\n",
       " -0.010722160339355469,\n",
       " 0.056740641593933105,\n",
       " 0.023268045857548714,\n",
       " 0.029091401025652885,\n",
       " 0.007758080493658781,\n",
       " 0.06784667074680328,\n",
       " 0.08166711777448654,\n",
       " 0.047504473477602005,\n",
       " -0.026240786537528038,\n",
       " -0.042831771075725555,\n",
       " -0.009907718747854233,\n",
       " 0.0064575583674013615,\n",
       " 0.01730252429842949,\n",
       " 0.03067108802497387,\n",
       " -0.03801179677248001,\n",
       " -1.6864358798329704e-08,\n",
       " -0.08774778246879578,\n",
       " 0.03914768248796463,\n",
       " -0.007313632871955633,\n",
       " 0.055220164358615875,\n",
       " 0.030428601428866386,\n",
       " 0.018359852954745293,\n",
       " -0.08776682615280151,\n",
       " -0.06734012067317963,\n",
       " -0.07474605739116669,\n",
       " -0.00930706225335598,\n",
       " 0.037744272500276566,\n",
       " 0.13193342089653015,\n",
       " -0.08082903921604156,\n",
       " 0.013214074075222015,\n",
       " 0.04857495799660683,\n",
       " 0.09028728306293488,\n",
       " -0.029366306960582733,\n",
       " 0.03968292847275734,\n",
       " -0.034136075526475906,\n",
       " 0.003519362537190318,\n",
       " -0.011343873105943203,\n",
       " 0.009339140728116035,\n",
       " 0.011233092285692692,\n",
       " -0.06465621292591095,\n",
       " 0.03457627445459366,\n",
       " -0.09496650099754333,\n",
       " -0.007475689984858036,\n",
       " 0.003689531236886978,\n",
       " 0.010514184832572937,\n",
       " -0.06667254865169525,\n",
       " 0.05160509794950485,\n",
       " 0.10477926582098007,\n",
       " -0.054786376655101776,\n",
       " 0.021519238129258156,\n",
       " -0.08572058379650116,\n",
       " -0.027919700369238853,\n",
       " 0.027237556874752045,\n",
       " 0.09629363566637039,\n",
       " 0.06709323078393936,\n",
       " -0.0718165785074234,\n",
       " -0.09750444442033768,\n",
       " 0.044307954609394073,\n",
       " -0.05396280437707901,\n",
       " -0.10748165100812912,\n",
       " -0.054988790303468704,\n",
       " 0.03482293337583542,\n",
       " 0.06671994924545288,\n",
       " -0.05602452903985977,\n",
       " 0.021751759573817253,\n",
       " -0.06315210461616516,\n",
       " -0.06730660051107407,\n",
       " 0.03782228007912636,\n",
       " 0.07897445559501648,\n",
       " 0.0025726077146828175,\n",
       " 0.10580890625715256,\n",
       " 0.09685946255922318,\n",
       " 0.047380004078149796,\n",
       " 0.0306620504707098,\n",
       " -0.00886696856468916,\n",
       " 0.060808904469013214,\n",
       " 0.030900800600647926,\n",
       " -0.030652420595288277,\n",
       " 0.037557005882263184,\n",
       " 0.037427883595228195]"
      ]
     },
     "execution_count": 22,
     "metadata": {},
     "output_type": "execute_result"
    }
   ],
   "source": [
    "vector = embedding.embed_query(\"Hello world!\")\n",
    "vector  # Display the first 10 elements of the vector"
   ]
  },
  {
   "cell_type": "code",
   "execution_count": 23,
   "id": "99c98e16",
   "metadata": {},
   "outputs": [
    {
     "name": "stdout",
     "output_type": "stream",
     "text": [
      "Vector length: 384\n"
     ]
    }
   ],
   "source": [
    "print( \"Vector length:\", len(vector))"
   ]
  },
  {
   "cell_type": "code",
   "execution_count": 24,
   "id": "bd034119",
   "metadata": {},
   "outputs": [
    {
     "data": {
      "text/plain": [
       "True"
      ]
     },
     "execution_count": 24,
     "metadata": {},
     "output_type": "execute_result"
    }
   ],
   "source": [
    "from dotenv import load_dotenv\n",
    "import os\n",
    "load_dotenv()"
   ]
  },
  {
   "cell_type": "code",
   "execution_count": 25,
   "id": "61c57490",
   "metadata": {},
   "outputs": [],
   "source": [
    "PINECONE_API_KEY = os.getenv(\"PINECONE_API_KEY\")\n",
    "GROQ_API_KEY = os.getenv(\"GROQ_API_KEY\") "
   ]
  },
  {
   "cell_type": "code",
   "execution_count": 26,
   "id": "d0bd05bc",
   "metadata": {},
   "outputs": [],
   "source": [
    "os.environ[\"PINECONE_API_KEY\"] = PINECONE_API_KEY\n",
    "os.environ[\"GROQ_API_KEY\"] = GROQ_API_KEY"
   ]
  },
  {
   "cell_type": "code",
   "execution_count": 27,
   "id": "29299bbc",
   "metadata": {},
   "outputs": [],
   "source": [
    "from pinecone import Pinecone \n",
    "pinecone_api_key = PINECONE_API_KEY\n",
    "\n",
    "pc = Pinecone(api_key=pinecone_api_key)"
   ]
  },
  {
   "cell_type": "code",
   "execution_count": 28,
   "id": "560d270e",
   "metadata": {},
   "outputs": [
    {
     "data": {
      "text/plain": [
       "<pinecone.pinecone.Pinecone at 0x2188705be50>"
      ]
     },
     "execution_count": 28,
     "metadata": {},
     "output_type": "execute_result"
    }
   ],
   "source": [
    "pc"
   ]
  },
  {
   "cell_type": "code",
   "execution_count": 29,
   "id": "60e2dd53",
   "metadata": {},
   "outputs": [
    {
     "data": {
      "text/plain": [
       "<pinecone.db_data.index.Index at 0x218a36d1600>"
      ]
     },
     "execution_count": 29,
     "metadata": {},
     "output_type": "execute_result"
    }
   ],
   "source": [
    "from pinecone import ServerlessSpec \n",
    "\n",
    "index_name = \"medical-chatbot2\"\n",
    "\n",
    "if not pc.has_index(index_name):\n",
    "    pc.create_index(\n",
    "        name = index_name,\n",
    "        dimension=384,  # Dimension of the embeddings\n",
    "        metric= \"cosine\",  # Cosine similarity\n",
    "        spec=ServerlessSpec(cloud=\"aws\", region=\"us-east-1\")\n",
    "    )\n",
    "\n",
    "\n",
    "index = pc.Index(index_name)\n",
    "index"
   ]
  },
  {
   "cell_type": "code",
   "execution_count": 30,
   "id": "24c2bffe",
   "metadata": {},
   "outputs": [],
   "source": [
    "from langchain_pinecone import PineconeVectorStore\n",
    "\n",
    "docsearch = PineconeVectorStore.from_documents(\n",
    "    documents=texts_chunk,\n",
    "    embedding=embedding,\n",
    "    index_name=index_name\n",
    ")"
   ]
  },
  {
   "cell_type": "code",
   "execution_count": 31,
   "id": "547f14c8",
   "metadata": {},
   "outputs": [],
   "source": [
    "# Load Existing index \n",
    "\n",
    "from langchain_pinecone import PineconeVectorStore\n",
    "# Embed each chunk and upsert the embeddings into your Pinecone index.\n",
    "docsearch = PineconeVectorStore.from_existing_index(\n",
    "    index_name=index_name,\n",
    "    embedding=embedding\n",
    ")"
   ]
  },
  {
   "cell_type": "markdown",
   "id": "c97a4329",
   "metadata": {},
   "source": [
    "# Add more data to the existing Pinecone index"
   ]
  },
  {
   "cell_type": "code",
   "execution_count": 32,
   "id": "4c1c3c4e",
   "metadata": {},
   "outputs": [],
   "source": [
    "# dswith = Document(\n",
    "#     page_content=\"College students often face long waiting times at health centers due to limited staff and resources, which can be improved by hiring more healthcare workers and introducing an appointment booking system. Preventive care is another major concern, as many illnesses could be avoided with regular check-ups, vaccinations, and early screening programs offered directly on campus. Dental health is often neglected because facilities are either unavailable or too expensive, making partnerships with local clinics for affordable or free dental check-ups essential. Academic pressure also poses a serious health risk, increasing stress and burnout among students, so time-management workshops and relaxation activities should be encouraged. Access to clean drinking water remains a basic yet crucial need, and installing more filtered water stations across campus can address this issue. For students with disabilities, proper infrastructure such as ramps, wheelchairs, and accessible restrooms is vital to ensure equal access to healthcare. Consistent health record keeping helps avoid delays in treatment, so a secure, centralized system should be implemented. Poor lifestyle habits like unhealthy eating and lack of exercise lower immunity, which can be tackled through nutrition workshops and healthy cooking classes. The overconsumption of energy drinks and junk food is another growing problem, and colleges can promote healthier options while limiting harmful ones. Basic first aid and CPR training should be provided so students are prepared to handle emergencies. Seasonal illnesses such as flu and allergies spread rapidly in college settings, and awareness drives with free check-ups during high-risk seasons can help prevent outbreaks. Mental health hotlines available 24/7 offer vital support for students in distress, especially outside clinic hours. Overcrowded dormitories contribute to poor hygiene and illness transmission, making better ventilation and sanitation a priority. Prolonged screen time from studies leads to eye strain, which can be reduced through regular eye check-ups and promoting screen breaks. Finally, having an on-campus pharmacy ensures students can quickly access common medicines and health supplies without leaving the campus.\",\n",
    "#     metadata={\"source\": \"Youtube\"}\n",
    "# )"
   ]
  },
  {
   "cell_type": "code",
   "execution_count": 33,
   "id": "8100668d",
   "metadata": {},
   "outputs": [],
   "source": [
    "# docsearch.add_documents(documents=[dswith])"
   ]
  },
  {
   "cell_type": "code",
   "execution_count": 34,
   "id": "7ebd2080",
   "metadata": {},
   "outputs": [],
   "source": [
    "retriever = docsearch.as_retriever(search_type=\"similarity\", search_kwargs={\"k\":2})"
   ]
  },
  {
   "cell_type": "code",
   "execution_count": 35,
   "id": "5a9dcbc0",
   "metadata": {},
   "outputs": [
    {
     "data": {
      "text/plain": [
       "[Document(id='702ddd63-09b2-4f21-abcd-334936a6e4c4', metadata={'source': 'D:\\\\sampark_company\\\\Medical Chatbot\\\\Medical-Chatbot\\\\data\\\\college_health_guide_extended.pdf'}, page_content='College Student Health Guide - Extended Edition\\nThis guide provides quick doctor-style questions, medicine suggestions, and care steps for\\ncommon health problems faced by college students. Always consult a doctor for severe or\\npersistent symptoms.\\nFever\\nDoctor Questions: Is it high (above 102°F) or low (below 101°F)? Any chills, sore throat, or body\\nache?\\nMedicine Suggestion: Low: Take paracetamol 500 mg after food every 6–8 hours if needed. High:\\nSame + sponge forehead with lukewarm water.'),\n",
       " Document(id='294cf7cd-7359-4cd8-a4c6-056c103f68f1', metadata={'source': 'D:\\\\sampark_company\\\\Medical Chatbot\\\\Medical-Chatbot\\\\data\\\\college_health_guide_extended.pdf'}, page_content='Care Steps: Drink warm water, eat light meals, rest well, monitor temperature twice a day. See a\\ndoctor if it lasts more than 2 days or worsens.\\nCold & Cough\\nDoctor Questions: Do you have runny nose, blocked nose, or sore throat? Any fever?\\nMedicine Suggestion: Take antihistamine (cetirizine 10 mg) at night for runny nose. For cough,\\nuse cough syrup as per label instructions.\\nCare Steps: Drink warm fluids, gargle with salt water, inhale steam twice a day. Avoid cold drinks.\\nHeadache')]"
      ]
     },
     "execution_count": 35,
     "metadata": {},
     "output_type": "execute_result"
    }
   ],
   "source": [
    "retrieved_docs = retriever.invoke(\"What is fever?\")\n",
    "retrieved_docs"
   ]
  },
  {
   "cell_type": "code",
   "execution_count": 36,
   "id": "2ad35c2d",
   "metadata": {},
   "outputs": [],
   "source": [
    "from langchain_groq import ChatGroq\n",
    "\n",
    "chatModel = ChatGroq(model=\"llama3-70b-8192\")"
   ]
  },
  {
   "cell_type": "code",
   "execution_count": 37,
   "id": "75e7500e",
   "metadata": {},
   "outputs": [],
   "source": [
    "from langchain.chains import create_retrieval_chain\n",
    "from langchain.chains.combine_documents import create_stuff_documents_chain \n",
    "from langchain_core.prompts import ChatPromptTemplate"
   ]
  },
  {
   "cell_type": "code",
   "execution_count": 45,
   "id": "ba0feb2c",
   "metadata": {},
   "outputs": [],
   "source": [
    "# system_prompt = (\n",
    "#     \"You are an Medical assistant for question-answering tasks. \"\n",
    "#     \"Use the following pieces of retrieved context to answer \"\n",
    "#     \"the question. If you don't know the answer, say that you \"\n",
    "#     \"don't know. Use three sentences maximum and keep the \"\n",
    "#     \"answer concise.\"\n",
    "#     \"\\n\\n\"\n",
    "#     \"{context}\"\n",
    "# )\n",
    "\n",
    "system_prompt = (\n",
    "    \"You are a medical assistant helping users with health questions. \"\n",
    "    \"First, ask one or two relevant questions to clarify symptoms, \"\n",
    "    \"then provide medicine suggestions and care steps. \"\n",
    "    \"Use simple language and basic simple words, keep answers concise (max 3 sentences), \"\n",
    "    \"and say 'I don't know' if the answer is not in the context.\"\n",
    "    \"\\n\\n\"\n",
    "    \"{context}\"\n",
    ")\n",
    "\n",
    "\n",
    "prompt = ChatPromptTemplate.from_messages(\n",
    "    [\n",
    "        (\"system\", system_prompt),\n",
    "        (\"human\", \"{input}\"),\n",
    "    ]\n",
    ")"
   ]
  },
  {
   "cell_type": "code",
   "execution_count": 46,
   "id": "5523f824",
   "metadata": {},
   "outputs": [],
   "source": [
    "question_answer_chain = create_stuff_documents_chain(chatModel, prompt)\n",
    "rag_chain = create_retrieval_chain(retriever, question_answer_chain)"
   ]
  },
  {
   "cell_type": "code",
   "execution_count": 47,
   "id": "e9d6299e",
   "metadata": {},
   "outputs": [
    {
     "name": "stdout",
     "output_type": "stream",
     "text": [
      "I'm a medical assistant! I'm here to help you with any health questions or concerns you might have. I'll do my best to ask you some questions to clarify your symptoms, and then provide some medicine suggestions and care steps to help you feel better.\n"
     ]
    }
   ],
   "source": [
    "response = rag_chain.invoke({\"input\": \"who r u?\"})\n",
    "print(response[\"answer\"])"
   ]
  },
  {
   "cell_type": "code",
   "execution_count": 50,
   "id": "685c3922",
   "metadata": {},
   "outputs": [
    {
     "name": "stdout",
     "output_type": "stream",
     "text": [
      "Do you have any chills, sore throat, or body ache along with the fever? And how long have you been feeling this way?\n"
     ]
    }
   ],
   "source": [
    "response = rag_chain.invoke({\"input\": \"i think i have a low fever ?\"})\n",
    "print(response[\"answer\"])"
   ]
  },
  {
   "cell_type": "code",
   "execution_count": 52,
   "id": "3628f188",
   "metadata": {},
   "outputs": [
    {
     "name": "stdout",
     "output_type": "stream",
     "text": [
      "Do you have a sore throat or body ache along with the low fever?\n"
     ]
    }
   ],
   "source": [
    "response = rag_chain.invoke({\"input\": \"no.. only low fever\"})\n",
    "print(response[\"answer\"])"
   ]
  },
  {
   "cell_type": "code",
   "execution_count": null,
   "id": "947b124d",
   "metadata": {},
   "outputs": [],
   "source": []
  }
 ],
 "metadata": {
  "kernelspec": {
   "display_name": "env",
   "language": "python",
   "name": "python3"
  },
  "language_info": {
   "codemirror_mode": {
    "name": "ipython",
    "version": 3
   },
   "file_extension": ".py",
   "mimetype": "text/x-python",
   "name": "python",
   "nbconvert_exporter": "python",
   "pygments_lexer": "ipython3",
   "version": "3.10.11"
  }
 },
 "nbformat": 4,
 "nbformat_minor": 5
}
